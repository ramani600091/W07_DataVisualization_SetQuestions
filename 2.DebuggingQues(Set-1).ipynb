{
 "cells": [
  {
   "cell_type": "code",
   "execution_count": null,
   "id": "e8c475cb-56b9-4a15-a16f-f505fe0505dd",
   "metadata": {},
   "outputs": [
    {
     "name": "stdout",
     "output_type": "stream",
     "text": [
      "0    25.0\n",
      "1    30.0\n",
      "2     NaN\n",
      "Name: Age, dtype: float64\n",
      "Average Age: 27.5\n"
     ]
    }
   ],
   "source": [
    "import pandas as pd  \n",
    "\n",
    "data = {'Name': ['Alice', 'Bob', 'Charlie'], \n",
    "        'Age': [25, 30, 'Thirty-Five'],  \n",
    "        'Gender': ['F', 'M', 'M']}  \n",
    "\n",
    "\n",
    "df = pd.DataFrame(data)\n",
    "# Convert 'Age' to numeric, non-numeric values become NaN\n",
    "#Begin of change by Ramani\n",
    "\n",
    "df['Age'] = pd.to_numeric(df['Age'], errors='coerce')\n",
    "print(df['Age'])\n",
    "#End   of change by Ramani\n",
    "\n",
    "average_age = df['Age'].mean()\n",
    "\n",
    "print(f\"Average Age: {average_age}\")\n"
   ]
  },
  {
   "cell_type": "code",
   "execution_count": null,
   "id": "7aa49932-e2fe-47cc-beca-06db74a5acff",
   "metadata": {},
   "outputs": [
    {
     "data": {
      "text/plain": [
       "(np.float64(3.25), np.float64(7.75))"
      ]
     },
     "execution_count": 10,
     "metadata": {},
     "output_type": "execute_result"
    }
   ],
   "source": [
    "import numpy as np\n",
    "\n",
    "data = [1, 2, 3, 4, 5, 6, 7, 8, 9, 10]\n",
    "#Begin of change by Ramani\n",
    "#q1, q3 = np.percentile(data, 25, 75)  \n",
    "\n",
    "#ISSUE: The inline parameter must be a list for multiple percentiles\n",
    "q1, q3 = np.percentile(data, [25, 75])  \n",
    "#End   of change by Ramani\n",
    "q1, q3"
   ]
  },
  {
   "cell_type": "code",
   "execution_count": 15,
   "id": "069ea87a-a971-4b8d-8869-d9782e16b235",
   "metadata": {},
   "outputs": [
    {
     "name": "stdout",
     "output_type": "stream",
     "text": [
      "[-1.5666989  -1.21854359 -0.87038828 -0.52223297 -0.17407766  0.17407766\n",
      "  0.52223297  0.87038828  1.21854359  1.5666989 ]\n",
      "[]\n"
     ]
    }
   ],
   "source": [
    "import numpy as np\n",
    "from scipy.stats import zscore\n",
    "\n",
    "# data = [1, 2, 3, 100, 5, 6, 7, 8, 9]\n",
    "\n",
    "# outliers = [i for i in data if zscore(data) > 2]\n",
    "# Compute Z-scores\n",
    "\n",
    "#ISSUE:\n",
    "#  The problem is that zscore(data) returns a NumPy array of Z-scores for all elements, not a single value.\n",
    "\n",
    "#Begin of change by Ramani\n",
    "z_scores = zscore(data)\n",
    "print(z_scores)\n",
    "# Identify outliers where Z-score > 2 or < -2\n",
    "outliers = [x for x, z in zip(data, z_scores) if abs(z) > 2]\n",
    "print(outliers)\n",
    "#End   of change by Ramani"
   ]
  },
  {
   "cell_type": "code",
   "execution_count": null,
   "id": "54f69e53-e308-4703-9eaa-9fd04077173a",
   "metadata": {},
   "outputs": [],
   "source": [
    "import numpy as np\n",
    "from scipy.stats import zscore\n",
    "\n",
    "data = [1, 2, 3, 100, 5, 6, 7, 8, 9]\n",
    "median = np.median(data)\n",
    "\n",
    "# Calculate Z-scores for all data\n",
    "z_scores = zscore(data)\n",
    "#Begin of change by Ramani\n",
    "# data = [median if abs(zscore(x)) > 2 else x for x in data]\n",
    "data_cleaned = [median if abs(z) > 2 else x for x, z in zip(data, z_scores)]\n",
    "#End   of change by Ramani\n"
   ]
  },
  {
   "cell_type": "code",
   "execution_count": null,
   "id": "aa83855c-039a-4e43-91f9-a8e0c0505936",
   "metadata": {},
   "outputs": [
    {
     "data": {
      "text/plain": [
       "np.float64(0.05399096651318806)"
      ]
     },
     "execution_count": 18,
     "metadata": {},
     "output_type": "execute_result"
    }
   ],
   "source": [
    "from scipy.stats import norm\n",
    "#error in the std deviation which is negative\n",
    "# pdf_val = norm.pdf(2, 0, -1)  \n",
    "#Begin of change by Ramani\n",
    "pdf_val = norm.pdf(2, 0, 1)\n",
    "#End   of change by Ramani\n",
    "pdf_val\n"
   ]
  },
  {
   "cell_type": "code",
   "execution_count": 19,
   "id": "5aeb4991-cd9a-4926-8cbd-2e42e2771dc7",
   "metadata": {},
   "outputs": [
    {
     "data": {
      "text/plain": [
       "<seaborn.axisgrid.PairGrid at 0x209367a3380>"
      ]
     },
     "execution_count": 19,
     "metadata": {},
     "output_type": "execute_result"
    },
    {
     "data": {
      "image/png": "[encoded data removed]",
      "text/plain": [
       "<Figure size 559.5x500 with 6 Axes>"
      ]
     },
     "metadata": {},
     "output_type": "display_data"
    }
   ],
   "source": [
    "import seaborn as sns\n",
    "import pandas as pd\n",
    "\n",
    "df = pd.DataFrame({'A': [1, 2, 3], 'B': [4, 5, 6]})\n",
    "#ERROR: 'C' does not exist in DataFrame\n",
    "#  sns.pairplot(df, hue='C')\n",
    "#Begin of change by Ramani\n",
    "df = pd.DataFrame({'A': [1, 2, 3], 'B': [4, 5, 6], 'C': ['X', 'Y', 'X']})\n",
    "sns.pairplot(df, hue='C')\n",
    "#End   of change by Ramani\n",
    "\n"
   ]
  },
  {
   "cell_type": "code",
   "execution_count": null,
   "id": "6a04f0f5-e775-49bb-8c3d-0b205b9a3406",
   "metadata": {},
   "outputs": [],
   "source": [
    "import numpy as np\n",
    "\n",
    "x = [1, 2, 3, 4]\n",
    "y = [2, 4, 6, 8]\n",
    "# cov_matrix = np.cov()\n",
    "#Begin of change by Ramani\n",
    "data = np.stack((x, y), axis=0)\n",
    "cov_matrix = np.cov(data)\n",
    "#End   of change by Ramani\n"
   ]
  },
  {
   "cell_type": "code",
   "execution_count": null,
   "id": "a1e8b82e-7a16-4d9e-a773-db9552ab992c",
   "metadata": {},
   "outputs": [
    {
     "name": "stdout",
     "output_type": "stream",
     "text": [
      "Mean: 6.0\n"
     ]
    }
   ],
   "source": [
    "import numpy as np\n",
    "\n",
    "data = [2, 4, 6, 8, 10]\n",
    "#error: mean function not called properly\n",
    "# mean_value = mean(data)\n",
    "#Begin of change by Ramani\n",
    "mean_value = np.mean(data)\n",
    "print(f\"Mean: {mean_value}\")\n",
    "#End   of change by Ramani\n"
   ]
  },
  {
   "cell_type": "code",
   "execution_count": null,
   "id": "b64dfbf5-a897-447f-a319-778c5b4268f3",
   "metadata": {},
   "outputs": [
    {
     "name": "stdout",
     "output_type": "stream",
     "text": [
      "     A    B\n",
      "0  1.0  0.0\n",
      "1  2.0  5.0\n",
      "2  0.0  6.0\n",
      "3  4.0  0.0\n"
     ]
    }
   ],
   "source": [
    "import pandas as pd\n",
    "import numpy as np\n",
    "\n",
    "data = {'A': [1, 2, np.nan, 4], 'B': [np.nan, 5, 6, np.nan]}\n",
    "df = pd.DataFrame(data)\n",
    "#error: inplace should be True to modify the DataFrame\n",
    "# df.replace(np.nan, 0, inplace=False)  \n",
    "#Begin of change by Ramani\n",
    "df.replace(np.nan, 0, inplace=True)  \n",
    "#End   of change by Ramani\n",
    "print(df)"
   ]
  },
  {
   "cell_type": "code",
   "execution_count": 28,
   "id": "5aacc208-8ab3-4850-a1bb-3495e32a0472",
   "metadata": {},
   "outputs": [
    {
     "name": "stdout",
     "output_type": "stream",
     "text": [
      "Correlation:\n",
      " [[1. 1.]\n",
      " [1. 1.]]\n"
     ]
    }
   ],
   "source": [
    "import numpy as np\n",
    "import pandas as pd\n",
    "\n",
    "data = {'A': [1, 2, 3, 4], 'B': [5, 6, 7, 8]}\n",
    "df = pd.DataFrame(data)\n",
    "#Begin of change by Ramani\n",
    "# correlation = np.corrcoef()\n",
    "#The error in your code comes from calling np.corrcoef() without providing any arguments. NumPy’s corrcoef function requires one or two input arrays to compute the correlation coefficient matrix.\n",
    "correlation = np.corrcoef(  df['A'], df['B'])\n",
    "#End   of change by Ramani\n",
    "print(\"Correlation:\\n\", correlation)\n"
   ]
  }
 ],
 "metadata": {
  "kernelspec": {
   "display_name": "base",
   "language": "python",
   "name": "python3"
  },
  "language_info": {
   "codemirror_mode": {
    "name": "ipython",
    "version": 3
   },
   "file_extension": ".py",
   "mimetype": "text/x-python",
   "name": "python",
   "nbconvert_exporter": "python",
   "pygments_lexer": "ipython3",
   "version": "3.13.5"
  }
 },
 "nbformat": 4,
 "nbformat_minor": 5
}
